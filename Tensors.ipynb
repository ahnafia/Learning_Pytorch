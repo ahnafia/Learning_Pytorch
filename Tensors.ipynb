{
  "nbformat": 4,
  "nbformat_minor": 0,
  "metadata": {
    "colab": {
      "provenance": [],
      "authorship_tag": "ABX9TyOzmZYA/xoPkybKmcfTviwI",
      "include_colab_link": true
    },
    "kernelspec": {
      "name": "python3",
      "display_name": "Python 3"
    },
    "language_info": {
      "name": "python"
    }
  },
  "cells": [
    {
      "cell_type": "markdown",
      "metadata": {
        "id": "view-in-github",
        "colab_type": "text"
      },
      "source": [
        "<a href=\"https://colab.research.google.com/github/ahnafia/Learning_Pytorch/blob/main/Tensors.ipynb\" target=\"_parent\"><img src=\"https://colab.research.google.com/assets/colab-badge.svg\" alt=\"Open In Colab\"/></a>"
      ]
    },
    {
      "cell_type": "markdown",
      "source": [
        "Tensors are just numpy arrays but optomized for GPUs"
      ],
      "metadata": {
        "id": "fTeBCuyMqyjF"
      }
    },
    {
      "cell_type": "code",
      "source": [
        "import torch\n",
        "import numpy as np"
      ],
      "metadata": {
        "id": "rorr_mdQq28y"
      },
      "execution_count": 1,
      "outputs": []
    },
    {
      "cell_type": "code",
      "source": [
        "#Normal array\n",
        "arr = np.array([i for i in range(10)])\n",
        "arr"
      ],
      "metadata": {
        "colab": {
          "base_uri": "https://localhost:8080/"
        },
        "id": "POqPkswWq-WH",
        "outputId": "7c633667-f73c-402a-93e0-ce462a6b552c"
      },
      "execution_count": 2,
      "outputs": [
        {
          "output_type": "execute_result",
          "data": {
            "text/plain": [
              "array([0, 1, 2, 3, 4, 5, 6, 7, 8, 9])"
            ]
          },
          "metadata": {},
          "execution_count": 2
        }
      ]
    },
    {
      "cell_type": "code",
      "source": [
        "#Tensors!!\n",
        "tensor_example = torch.tensor([i for i in range(10)])\n",
        "tensor_example"
      ],
      "metadata": {
        "colab": {
          "base_uri": "https://localhost:8080/"
        },
        "id": "CQyU_6MfrRO2",
        "outputId": "3add902f-92cc-41e4-839c-b70b42800f0c"
      },
      "execution_count": 5,
      "outputs": [
        {
          "output_type": "execute_result",
          "data": {
            "text/plain": [
              "tensor([0, 1, 2, 3, 4, 5, 6, 7, 8, 9])"
            ]
          },
          "metadata": {},
          "execution_count": 5
        }
      ]
    },
    {
      "cell_type": "markdown",
      "source": [
        "Couple of Tensor operations"
      ],
      "metadata": {
        "id": "EaspH33XsDVj"
      }
    },
    {
      "cell_type": "code",
      "source": [
        "my_tensor = tensor_example.reshape(2,5)\n",
        "my_tensor"
      ],
      "metadata": {
        "colab": {
          "base_uri": "https://localhost:8080/"
        },
        "id": "45qV_UrfsF6g",
        "outputId": "ebd21d76-e58c-416a-f6d9-6dd931817fc3"
      },
      "execution_count": 7,
      "outputs": [
        {
          "output_type": "execute_result",
          "data": {
            "text/plain": [
              "tensor([[0, 1, 2, 3, 4],\n",
              "        [5, 6, 7, 8, 9]])"
            ]
          },
          "metadata": {},
          "execution_count": 7
        }
      ]
    },
    {
      "cell_type": "code",
      "source": [
        "my_tensor2 = tensor_example.view(2,5)\n",
        "my_tensor2"
      ],
      "metadata": {
        "colab": {
          "base_uri": "https://localhost:8080/"
        },
        "id": "b6p_RR4wsTbG",
        "outputId": "676d8e1c-7973-47d4-e378-b4f06b6feaf8"
      },
      "execution_count": 8,
      "outputs": [
        {
          "output_type": "execute_result",
          "data": {
            "text/plain": [
              "tensor([[0, 1, 2, 3, 4],\n",
              "        [5, 6, 7, 8, 9]])"
            ]
          },
          "metadata": {},
          "execution_count": 8
        }
      ]
    },
    {
      "cell_type": "code",
      "source": [
        "tensor_example[1] = 40\n",
        "tensor_example"
      ],
      "metadata": {
        "colab": {
          "base_uri": "https://localhost:8080/"
        },
        "id": "GqZ9OBM4sxXa",
        "outputId": "f4bf3a7a-2bca-455f-b863-2ea9a6e7f7f7"
      },
      "execution_count": 9,
      "outputs": [
        {
          "output_type": "execute_result",
          "data": {
            "text/plain": [
              "tensor([ 0, 40,  2,  3,  4,  5,  6,  7,  8,  9])"
            ]
          },
          "metadata": {},
          "execution_count": 9
        }
      ]
    },
    {
      "cell_type": "code",
      "source": [
        "my_tensor2\n",
        "#Tensors update, they dont make copies"
      ],
      "metadata": {
        "colab": {
          "base_uri": "https://localhost:8080/"
        },
        "id": "--nS6fpfs3BR",
        "outputId": "ff568695-f988-49f9-a062-8ae427c19a0c"
      },
      "execution_count": 10,
      "outputs": [
        {
          "output_type": "execute_result",
          "data": {
            "text/plain": [
              "tensor([[ 0, 40,  2,  3,  4],\n",
              "        [ 5,  6,  7,  8,  9]])"
            ]
          },
          "metadata": {},
          "execution_count": 10
        }
      ]
    },
    {
      "cell_type": "code",
      "source": [
        "#Math Operations\n",
        "print(my_tensor2 + my_tensor) #Tensor.add does the same thing\n",
        "print(my_tensor2 * my_tensor)\n",
        "print(my_tensor2 - my_tensor)\n",
        "print(my_tensor2 / my_tensor)\n",
        "#FOr modulus I can use torch.remainder()"
      ],
      "metadata": {
        "colab": {
          "base_uri": "https://localhost:8080/"
        },
        "id": "NJxAoPUis7wd",
        "outputId": "1e360ff2-e1b7-4fbd-ae8f-1b966b6bbb58"
      },
      "execution_count": 12,
      "outputs": [
        {
          "output_type": "stream",
          "name": "stdout",
          "text": [
            "tensor([[ 0, 80,  4,  6,  8],\n",
            "        [10, 12, 14, 16, 18]])\n",
            "tensor([[   0, 1600,    4,    9,   16],\n",
            "        [  25,   36,   49,   64,   81]])\n",
            "tensor([[0, 0, 0, 0, 0],\n",
            "        [0, 0, 0, 0, 0]])\n",
            "tensor([[nan, 1., 1., 1., 1.],\n",
            "        [1., 1., 1., 1., 1.]])\n"
          ]
        }
      ]
    },
    {
      "cell_type": "code",
      "source": [
        "#Reassignment with an underscore\n",
        "tensor_2 = torch.tensor([i for i in range(10)])\n",
        "tensor_example.add_(tensor_2)\n",
        "tensor_example"
      ],
      "metadata": {
        "colab": {
          "base_uri": "https://localhost:8080/"
        },
        "id": "rj_l6Kg2tbkM",
        "outputId": "5ad63b1f-77e7-47e6-d330-a4d5fc270234"
      },
      "execution_count": 15,
      "outputs": [
        {
          "output_type": "execute_result",
          "data": {
            "text/plain": [
              "tensor([ 0, 41,  4,  6,  8, 10, 12, 14, 16, 18])"
            ]
          },
          "metadata": {},
          "execution_count": 15
        }
      ]
    }
  ]
}