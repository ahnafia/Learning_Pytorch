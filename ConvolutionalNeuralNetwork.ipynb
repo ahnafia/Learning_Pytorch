{
  "nbformat": 4,
  "nbformat_minor": 0,
  "metadata": {
    "colab": {
      "provenance": [],
      "authorship_tag": "ABX9TyN6Dt9OokUNqSHBeMHa0Ys9",
      "include_colab_link": true
    },
    "kernelspec": {
      "name": "python3",
      "display_name": "Python 3"
    },
    "language_info": {
      "name": "python"
    }
  },
  "cells": [
    {
      "cell_type": "markdown",
      "metadata": {
        "id": "view-in-github",
        "colab_type": "text"
      },
      "source": [
        "<a href=\"https://colab.research.google.com/github/ahnafia/Learning_Pytorch/blob/main/ConvolutionalNeuralNetwork.ipynb\" target=\"_parent\"><img src=\"https://colab.research.google.com/assets/colab-badge.svg\" alt=\"Open In Colab\"/></a>"
      ]
    },
    {
      "cell_type": "code",
      "execution_count": 46,
      "metadata": {
        "id": "H12nEunWuHpY"
      },
      "outputs": [],
      "source": [
        "import torch\n",
        "import torch.nn as nn\n",
        "import torch.nn.functional as F\n",
        "from torch.utils.data import DataLoader\n",
        "from torchvision import datasets, transforms\n",
        "from torchvision.utils import make_grid\n",
        "\n",
        "import numpy as np\n",
        "import pandas as pd\n",
        "from sklearn.metrics import confusion_matrix\n",
        "import itertools\n",
        "import matplotlib.pyplot as plt\n",
        "import seaborn as sns\n",
        "%matplotlib inline"
      ]
    },
    {
      "cell_type": "code",
      "source": [
        "#Convert MNIST Image Files into a 4 dimensional tensor\n",
        "transform = transforms.ToTensor()"
      ],
      "metadata": {
        "id": "mTQxrxd5ADTe"
      },
      "execution_count": 47,
      "outputs": []
    },
    {
      "cell_type": "code",
      "source": [
        "#Training our data\n",
        "train_data = datasets.MNIST(root='data', train=True, download=True, transform=transform)"
      ],
      "metadata": {
        "id": "2kLXzrzLAO4L"
      },
      "execution_count": 48,
      "outputs": []
    },
    {
      "cell_type": "code",
      "source": [
        "#Testing our data\n",
        "test_data = datasets.MNIST(root='data', train=False, download=True, transform=transform)"
      ],
      "metadata": {
        "id": "o_lpNUknAZa1"
      },
      "execution_count": 49,
      "outputs": []
    },
    {
      "cell_type": "code",
      "source": [
        "test_data"
      ],
      "metadata": {
        "colab": {
          "base_uri": "https://localhost:8080/"
        },
        "id": "ZwotVhWJAgje",
        "outputId": "6a6ca3f1-c206-4cda-e1c5-11b31863ecaa"
      },
      "execution_count": 50,
      "outputs": [
        {
          "output_type": "execute_result",
          "data": {
            "text/plain": [
              "Dataset MNIST\n",
              "    Number of datapoints: 10000\n",
              "    Root location: data\n",
              "    Split: Test\n",
              "    StandardTransform\n",
              "Transform: ToTensor()"
            ]
          },
          "metadata": {},
          "execution_count": 50
        }
      ]
    },
    {
      "cell_type": "code",
      "source": [
        "train_loader = DataLoader(train_data, batch_size=10, shuffle=True) #Creating a 10 batch data load\n",
        "test_loader = DataLoader(test_data, batch_size=10, shuffle=False) #Creating a 10 batch data load"
      ],
      "metadata": {
        "id": "tLjonCAKAr1G"
      },
      "execution_count": 51,
      "outputs": []
    },
    {
      "cell_type": "code",
      "source": [
        "#Creating and setting the CNN Model, only having 2 layers here\n",
        "conv1 = nn.Conv2d(in_channels=1, out_channels=6, kernel_size=3, stride=1, padding=1)\n",
        "conv2 = nn.Conv2d(in_channels=6, out_channels=16, kernel_size=3, stride=1, padding=1)"
      ],
      "metadata": {
        "id": "Disov3PTBI_c"
      },
      "execution_count": 52,
      "outputs": []
    },
    {
      "cell_type": "code",
      "source": [
        "#Using a image\n",
        "for i, (X_train, y_train) in enumerate(loader):\n",
        "    break"
      ],
      "metadata": {
        "id": "FmXRsHCSBilq"
      },
      "execution_count": 53,
      "outputs": []
    },
    {
      "cell_type": "code",
      "source": [
        "x = X_train.view(10, 1, 28, 28) #Setting the tensor to the size of X_train"
      ],
      "metadata": {
        "id": "wRWmBROqBpkE"
      },
      "execution_count": 54,
      "outputs": []
    },
    {
      "cell_type": "code",
      "source": [
        "#Applying the first convolution\n",
        "x = F.relu(conv1(x))\n",
        "x.shape"
      ],
      "metadata": {
        "colab": {
          "base_uri": "https://localhost:8080/"
        },
        "id": "oZjaaXdfCC8l",
        "outputId": "ae71831c-3b7e-4c18-f06d-2f1037a85a36"
      },
      "execution_count": 55,
      "outputs": [
        {
          "output_type": "execute_result",
          "data": {
            "text/plain": [
              "torch.Size([10, 6, 28, 28])"
            ]
          },
          "metadata": {},
          "execution_count": 55
        }
      ]
    },
    {
      "cell_type": "code",
      "source": [
        "#Pooling layer\n",
        "x = F.max_pool2d(x, 2, 2) #kernel=2, stride=2\n",
        "x.shape"
      ],
      "metadata": {
        "colab": {
          "base_uri": "https://localhost:8080/"
        },
        "id": "9l2zh-KhC01k",
        "outputId": "203700fb-9904-4c99-cf3f-e635fab99215"
      },
      "execution_count": 56,
      "outputs": [
        {
          "output_type": "execute_result",
          "data": {
            "text/plain": [
              "torch.Size([10, 6, 14, 14])"
            ]
          },
          "metadata": {},
          "execution_count": 56
        }
      ]
    },
    {
      "cell_type": "code",
      "source": [
        "#Applying the second convolution\n",
        "x = F.relu(conv2(x))\n",
        "x.shape"
      ],
      "metadata": {
        "colab": {
          "base_uri": "https://localhost:8080/"
        },
        "id": "7Z7jqBDdDHmu",
        "outputId": "bfb0c752-0cb2-4cc3-fa41-f5b900caaeb5"
      },
      "execution_count": 57,
      "outputs": [
        {
          "output_type": "execute_result",
          "data": {
            "text/plain": [
              "torch.Size([10, 16, 14, 14])"
            ]
          },
          "metadata": {},
          "execution_count": 57
        }
      ]
    },
    {
      "cell_type": "code",
      "source": [
        "# Second Pooling layer\n",
        "x = F.max_pool2d(x, 2, 2) #kernel=2, stride=2\n",
        "x.shape"
      ],
      "metadata": {
        "colab": {
          "base_uri": "https://localhost:8080/"
        },
        "id": "r7WYKIQ6DKyP",
        "outputId": "85632939-5fad-4fde-fed4-6afb82bf713a"
      },
      "execution_count": 58,
      "outputs": [
        {
          "output_type": "execute_result",
          "data": {
            "text/plain": [
              "torch.Size([10, 16, 7, 7])"
            ]
          },
          "metadata": {},
          "execution_count": 58
        }
      ]
    },
    {
      "cell_type": "code",
      "source": [
        "class ConvoloutionalNetwork(nn.Module):\n",
        "  def __init__(self):\n",
        "    super().__init__()\n",
        "    self.conv1 = nn.Conv2d(in_channels=1, out_channels=6, kernel_size=3, stride=1, padding=1)\n",
        "    self.conv2 = nn.Conv2d(6, 16, 3 , 1)\n",
        "    #Fully connected layers\n",
        "    self.fc1 = nn.Linear(in_features=6*6*16, out_features=120)\n",
        "    self.fc2 = nn.Linear(120, 84)\n",
        "    self.fc3 = nn.Linear(84, 10)\n",
        "\n",
        "  def forward(self, X):\n",
        "    X = F.relu(self.conv1(X))\n",
        "    X = F.max_pool2d(X, 2, 2)\n",
        "    X = F.relu(self.conv2(X))\n",
        "    X = F.max_pool2d(X, 2, 2)\n",
        "    #Flatten data by reviewing\n",
        "    X = X.view(-1, 6*6*16)\n",
        "    X = F.relu(self.fc1(X))\n",
        "    X = F.relu(self.fc2(X))\n",
        "    X = self.fc3(X)\n",
        "    return F.log_softmax(X, dim=1)"
      ],
      "metadata": {
        "id": "gVg3DAgWH_tY"
      },
      "execution_count": 59,
      "outputs": []
    },
    {
      "cell_type": "code",
      "source": [
        "#Creating instance of CNN\n",
        "torch.manual_seed(101)\n",
        "model = ConvoloutionalNetwork()\n",
        "model"
      ],
      "metadata": {
        "colab": {
          "base_uri": "https://localhost:8080/"
        },
        "id": "L1Ehd_1DI-s1",
        "outputId": "dea6fcc8-0096-4533-9edc-6d5a6f84b3fa"
      },
      "execution_count": 60,
      "outputs": [
        {
          "output_type": "execute_result",
          "data": {
            "text/plain": [
              "ConvoloutionalNetwork(\n",
              "  (conv1): Conv2d(1, 6, kernel_size=(3, 3), stride=(1, 1), padding=(1, 1))\n",
              "  (conv2): Conv2d(6, 16, kernel_size=(3, 3), stride=(1, 1))\n",
              "  (fc1): Linear(in_features=576, out_features=120, bias=True)\n",
              "  (fc2): Linear(in_features=120, out_features=84, bias=True)\n",
              "  (fc3): Linear(in_features=84, out_features=10, bias=True)\n",
              ")"
            ]
          },
          "metadata": {},
          "execution_count": 60
        }
      ]
    },
    {
      "cell_type": "code",
      "source": [
        "#Loss function and optomizer\n",
        "criterion = nn.CrossEntropyLoss()\n",
        "optimizer = torch.optim.Adam(model.parameters(), lr=0.001)"
      ],
      "metadata": {
        "id": "Jk9PzZFNJT1R"
      },
      "execution_count": 61,
      "outputs": []
    },
    {
      "cell_type": "code",
      "source": [
        "#Variables to track\n",
        "epochs = 5\n",
        "train_losses = []\n",
        "test_losses = []\n",
        "train_correct = []\n",
        "test_correct = []\n",
        "\n",
        "#Running epochs\n",
        "for i in range(epochs):\n",
        "  trn_corr = 0\n",
        "  tst_corr = 0\n",
        "\n",
        "  for b, (X_train, y_train) in enumerate(train_loader):\n",
        "    b+=1\n",
        "    y_pred = model(X_train) #Get training predicted value\n",
        "    loss = criterion(y_pred, y_train) #Calculate loss\n",
        "    predicted = torch.max(y_pred.data, 1)[1] #Get predicted class\n",
        "    batch_corr = (predicted == y_train).sum() #Number of correct predictions\n",
        "    trn_corr += batch_corr\n",
        "    #Back prop\n",
        "    optimizer.zero_grad()\n",
        "    loss.backward()\n",
        "    optimizer.step()\n",
        "\n",
        "    if b%600 == 0:\n",
        "      print(f'Epoch {i}  Batch {b}  Loss {loss.item()}')\n",
        "\n",
        "  train_losses.append(loss)\n",
        "  train_correct.append(trn_corr)\n",
        "\n",
        "  #Testing\n",
        "  with torch.no_grad():\n",
        "    for b, (X_test, y_test) in enumerate(test_loader):\n",
        "      y_val = model(X_test)\n",
        "      predicted = torch.max(y_val.data, 1)[1]\n",
        "      tst_corr += (predicted == y_test).sum()\n",
        "\n",
        "  loss = criterion(y_val, y_test)\n",
        "  test_losses.append(loss)\n",
        "  test_correct.append(tst_corr)\n",
        "\n",
        "  print(f'Epoch {i}  Train Loss: {train_losses[-1].item()}  Train Accuracy: {train_correct[-1].item()}  Test Loss: {test_losses[-1].item()}  Test Accuracy: {test_correct[-1].item()}')"
      ],
      "metadata": {
        "colab": {
          "base_uri": "https://localhost:8080/"
        },
        "id": "tamoVFKxLOhl",
        "outputId": "611357f4-cc5e-4af6-d12b-82edfa281918"
      },
      "execution_count": 63,
      "outputs": [
        {
          "output_type": "stream",
          "name": "stdout",
          "text": [
            "Epoch 0  Batch 600  Loss 0.26586613059043884\n",
            "Epoch 0  Batch 1200  Loss 0.013712340965867043\n",
            "Epoch 0  Batch 1800  Loss 0.2968384623527527\n",
            "Epoch 0  Batch 2400  Loss 0.15323808789253235\n",
            "Epoch 0  Batch 3000  Loss 0.043587010353803635\n",
            "Epoch 0  Batch 3600  Loss 0.1187116876244545\n",
            "Epoch 0  Batch 4200  Loss 0.030455831438302994\n",
            "Epoch 0  Batch 4800  Loss 0.07084570825099945\n",
            "Epoch 0  Batch 5400  Loss 0.4851313531398773\n",
            "Epoch 0  Batch 6000  Loss 0.025189116597175598\n",
            "Epoch 0  Train Loss: 0.025189116597175598  Train Accuracy: 56246  Test Loss: 0.0008671828545629978  Test Accuracy: 9783\n",
            "Epoch 1  Batch 600  Loss 0.0023277117870748043\n",
            "Epoch 1  Batch 1200  Loss 0.0006136649171821773\n",
            "Epoch 1  Batch 1800  Loss 0.09667106717824936\n",
            "Epoch 1  Batch 2400  Loss 0.16505677998065948\n",
            "Epoch 1  Batch 3000  Loss 0.022626269608736038\n",
            "Epoch 1  Batch 3600  Loss 0.003416046965867281\n",
            "Epoch 1  Batch 4200  Loss 0.0013142996467649937\n",
            "Epoch 1  Batch 4800  Loss 0.0014378796331584454\n",
            "Epoch 1  Batch 5400  Loss 0.014258262701332569\n",
            "Epoch 1  Batch 6000  Loss 0.019955012947320938\n",
            "Epoch 1  Train Loss: 0.019955012947320938  Train Accuracy: 58745  Test Loss: 0.004414241760969162  Test Accuracy: 9790\n",
            "Epoch 2  Batch 600  Loss 0.00046176285832189023\n",
            "Epoch 2  Batch 1200  Loss 0.0005152293015271425\n",
            "Epoch 2  Batch 1800  Loss 0.0017223836621269584\n",
            "Epoch 2  Batch 2400  Loss 0.0008348968112841249\n",
            "Epoch 2  Batch 3000  Loss 0.0002995346731040627\n",
            "Epoch 2  Batch 3600  Loss 0.00200386019423604\n",
            "Epoch 2  Batch 4200  Loss 0.03238821029663086\n",
            "Epoch 2  Batch 4800  Loss 0.0038446083199232817\n",
            "Epoch 2  Batch 5400  Loss 0.11690758168697357\n",
            "Epoch 2  Batch 6000  Loss 0.000550969853065908\n",
            "Epoch 2  Train Loss: 0.000550969853065908  Train Accuracy: 59139  Test Loss: 0.0020109827164560556  Test Accuracy: 9783\n",
            "Epoch 3  Batch 600  Loss 0.003692933591082692\n",
            "Epoch 3  Batch 1200  Loss 0.031331755220890045\n",
            "Epoch 3  Batch 1800  Loss 0.006212632171809673\n",
            "Epoch 3  Batch 2400  Loss 0.002884477376937866\n",
            "Epoch 3  Batch 3000  Loss 0.00029538600938394666\n",
            "Epoch 3  Batch 3600  Loss 0.00015894586977083236\n",
            "Epoch 3  Batch 4200  Loss 0.0002569171192590147\n",
            "Epoch 3  Batch 4800  Loss 7.437152089551091e-05\n",
            "Epoch 3  Batch 5400  Loss 0.12090454995632172\n",
            "Epoch 3  Batch 6000  Loss 0.013950144872069359\n",
            "Epoch 3  Train Loss: 0.013950144872069359  Train Accuracy: 59284  Test Loss: 0.0004845023213420063  Test Accuracy: 9849\n",
            "Epoch 4  Batch 600  Loss 0.002073099836707115\n",
            "Epoch 4  Batch 1200  Loss 0.002025204012170434\n",
            "Epoch 4  Batch 1800  Loss 0.0015586548252031207\n",
            "Epoch 4  Batch 2400  Loss 0.055000729858875275\n",
            "Epoch 4  Batch 3000  Loss 4.937086487188935e-05\n",
            "Epoch 4  Batch 3600  Loss 0.00035676962579600513\n",
            "Epoch 4  Batch 4200  Loss 0.04335227608680725\n",
            "Epoch 4  Batch 4800  Loss 0.00024137164291460067\n",
            "Epoch 4  Batch 5400  Loss 0.0013451975537464023\n",
            "Epoch 4  Batch 6000  Loss 0.02993145026266575\n",
            "Epoch 4  Train Loss: 0.02993145026266575  Train Accuracy: 59430  Test Loss: 0.0011254542041569948  Test Accuracy: 9842\n"
          ]
        }
      ]
    },
    {
      "cell_type": "code",
      "source": [
        "test_data[20]"
      ],
      "metadata": {
        "colab": {
          "base_uri": "https://localhost:8080/"
        },
        "id": "qbZvo3D0TWxP",
        "outputId": "7747dbf3-71b1-4a31-b1a3-9bc615243276"
      },
      "execution_count": 64,
      "outputs": [
        {
          "output_type": "execute_result",
          "data": {
            "text/plain": [
              "(tensor([[[0.0000, 0.0000, 0.0000, 0.0000, 0.0000, 0.0000, 0.0000, 0.0000,\n",
              "           0.0000, 0.0000, 0.0000, 0.0000, 0.0000, 0.0000, 0.0000, 0.0000,\n",
              "           0.0000, 0.0000, 0.0000, 0.0000, 0.0000, 0.0000, 0.0000, 0.0000,\n",
              "           0.0000, 0.0000, 0.0000, 0.0000],\n",
              "          [0.0000, 0.0000, 0.0000, 0.0000, 0.0000, 0.0000, 0.0000, 0.0000,\n",
              "           0.0000, 0.0000, 0.0000, 0.0000, 0.0000, 0.0000, 0.0000, 0.0000,\n",
              "           0.0000, 0.0000, 0.0000, 0.0000, 0.0000, 0.0000, 0.0000, 0.0000,\n",
              "           0.0000, 0.0000, 0.0000, 0.0000],\n",
              "          [0.0000, 0.0000, 0.0000, 0.0000, 0.0000, 0.0000, 0.0000, 0.0000,\n",
              "           0.0000, 0.0000, 0.0000, 0.0000, 0.0000, 0.0000, 0.0000, 0.0000,\n",
              "           0.0000, 0.0000, 0.0000, 0.0000, 0.0000, 0.0000, 0.0000, 0.0000,\n",
              "           0.0000, 0.0000, 0.0000, 0.0000],\n",
              "          [0.0000, 0.0000, 0.0000, 0.0000, 0.0000, 0.0000, 0.0000, 0.0000,\n",
              "           0.0000, 0.0000, 0.0000, 0.0000, 0.0000, 0.0000, 0.0000, 0.0000,\n",
              "           0.0000, 0.0000, 0.0000, 0.0000, 0.0000, 0.0000, 0.0000, 0.0000,\n",
              "           0.0000, 0.0000, 0.0000, 0.0000],\n",
              "          [0.0000, 0.0000, 0.0000, 0.0000, 0.0000, 0.0000, 0.0000, 0.0000,\n",
              "           0.0000, 0.0000, 0.0000, 0.0000, 0.0000, 0.0000, 0.0000, 0.0000,\n",
              "           0.0000, 0.0000, 0.0000, 0.0000, 0.0000, 0.0000, 0.0000, 0.0000,\n",
              "           0.0000, 0.0000, 0.0000, 0.0000],\n",
              "          [0.0000, 0.0000, 0.0000, 0.0000, 0.0000, 0.0000, 0.0000, 0.0000,\n",
              "           0.0000, 0.0000, 0.0000, 0.0000, 0.0000, 0.0000, 0.0000, 0.0000,\n",
              "           0.0000, 0.0000, 0.0000, 0.0000, 0.0000, 0.0000, 0.0000, 0.0000,\n",
              "           0.0000, 0.0000, 0.0000, 0.0000],\n",
              "          [0.0000, 0.0000, 0.0000, 0.0000, 0.0000, 0.0000, 0.0000, 0.0000,\n",
              "           0.0000, 0.0000, 0.0000, 0.0000, 0.0000, 0.0000, 0.0000, 0.1216,\n",
              "           0.5490, 0.7569, 0.1725, 0.0000, 0.0000, 0.0000, 0.0000, 0.0000,\n",
              "           0.0000, 0.0000, 0.0000, 0.0000],\n",
              "          [0.0000, 0.0000, 0.0000, 0.0000, 0.0000, 0.0000, 0.0000, 0.0000,\n",
              "           0.0000, 0.0000, 0.0000, 0.0000, 0.0000, 0.1490, 0.5725, 0.9412,\n",
              "           0.9961, 0.9961, 0.8941, 0.1882, 0.3020, 0.1804, 0.0000, 0.0000,\n",
              "           0.0000, 0.0000, 0.0000, 0.0000],\n",
              "          [0.0000, 0.0000, 0.0000, 0.0000, 0.0000, 0.0000, 0.0000, 0.0000,\n",
              "           0.0000, 0.0000, 0.0000, 0.0078, 0.1686, 0.9020, 0.9961, 0.9961,\n",
              "           0.9961, 0.9961, 0.9961, 0.9451, 0.9961, 0.7725, 0.0078, 0.0000,\n",
              "           0.0000, 0.0000, 0.0000, 0.0000],\n",
              "          [0.0000, 0.0000, 0.0000, 0.0000, 0.0000, 0.0000, 0.0000, 0.0000,\n",
              "           0.0000, 0.0000, 0.0824, 0.5098, 0.9961, 0.9961, 0.9961, 0.9373,\n",
              "           0.9882, 0.9961, 0.9961, 0.9961, 0.9961, 0.9294, 0.0157, 0.0000,\n",
              "           0.0000, 0.0000, 0.0000, 0.0000],\n",
              "          [0.0000, 0.0000, 0.0000, 0.0000, 0.0000, 0.0000, 0.0000, 0.0000,\n",
              "           0.0000, 0.0000, 0.6039, 0.9961, 0.9961, 0.9765, 0.4078, 0.2784,\n",
              "           0.7765, 0.9961, 0.9961, 0.9961, 0.9176, 0.2235, 0.0000, 0.0000,\n",
              "           0.0000, 0.0000, 0.0000, 0.0000],\n",
              "          [0.0000, 0.0000, 0.0000, 0.0000, 0.0000, 0.0000, 0.0000, 0.0000,\n",
              "           0.0078, 0.6784, 0.9882, 0.9882, 0.8078, 0.2000, 0.4706, 0.8431,\n",
              "           0.9961, 0.9961, 0.9961, 0.9961, 0.7216, 0.0000, 0.0000, 0.0000,\n",
              "           0.0000, 0.0000, 0.0000, 0.0000],\n",
              "          [0.0000, 0.0000, 0.0000, 0.0000, 0.0000, 0.0000, 0.0000, 0.0000,\n",
              "           0.4392, 0.9961, 0.9961, 0.8431, 0.3412, 0.9686, 0.9961, 0.9961,\n",
              "           0.9961, 0.9961, 0.9961, 0.8510, 0.1216, 0.0000, 0.0000, 0.0000,\n",
              "           0.0000, 0.0000, 0.0000, 0.0000],\n",
              "          [0.0000, 0.0000, 0.0000, 0.0000, 0.0000, 0.0000, 0.0000, 0.0196,\n",
              "           0.9059, 0.9961, 0.9961, 0.9961, 0.9961, 0.9961, 0.9255, 0.5020,\n",
              "           0.7686, 0.9961, 0.9961, 0.4667, 0.0000, 0.0000, 0.0000, 0.0000,\n",
              "           0.0000, 0.0000, 0.0000, 0.0000],\n",
              "          [0.0000, 0.0000, 0.0000, 0.0000, 0.0000, 0.0000, 0.0000, 0.0118,\n",
              "           0.7725, 0.9961, 0.9961, 0.9608, 0.9333, 0.5137, 0.0667, 0.1804,\n",
              "           0.9686, 0.9961, 0.7804, 0.0549, 0.0000, 0.0000, 0.0000, 0.0000,\n",
              "           0.0000, 0.0000, 0.0000, 0.0000],\n",
              "          [0.0000, 0.0000, 0.0000, 0.0000, 0.0000, 0.0000, 0.0000, 0.0000,\n",
              "           0.0627, 0.3608, 0.3451, 0.1569, 0.0000, 0.0000, 0.0471, 0.6784,\n",
              "           0.9961, 0.9490, 0.1490, 0.0000, 0.0000, 0.0000, 0.0000, 0.0000,\n",
              "           0.0000, 0.0000, 0.0000, 0.0000],\n",
              "          [0.0000, 0.0000, 0.0000, 0.0000, 0.0000, 0.0000, 0.0000, 0.0000,\n",
              "           0.0000, 0.0000, 0.0000, 0.0000, 0.0000, 0.0000, 0.3725, 0.9961,\n",
              "           0.9961, 0.6078, 0.0000, 0.0000, 0.0000, 0.0000, 0.0000, 0.0000,\n",
              "           0.0000, 0.0000, 0.0000, 0.0000],\n",
              "          [0.0000, 0.0000, 0.0000, 0.0000, 0.0000, 0.0000, 0.0000, 0.0000,\n",
              "           0.0000, 0.0000, 0.0000, 0.0000, 0.0000, 0.0706, 0.8235, 0.9961,\n",
              "           0.8824, 0.0235, 0.0000, 0.0000, 0.0000, 0.0000, 0.0000, 0.0000,\n",
              "           0.0000, 0.0000, 0.0000, 0.0000],\n",
              "          [0.0000, 0.0000, 0.0000, 0.0000, 0.0000, 0.0000, 0.0000, 0.0000,\n",
              "           0.0000, 0.0000, 0.0000, 0.0000, 0.0000, 0.7725, 0.9961, 0.9961,\n",
              "           0.3882, 0.0000, 0.0000, 0.0000, 0.0000, 0.0000, 0.0000, 0.0000,\n",
              "           0.0000, 0.0000, 0.0000, 0.0000],\n",
              "          [0.0000, 0.0000, 0.0000, 0.0000, 0.0000, 0.0000, 0.0000, 0.0000,\n",
              "           0.0000, 0.0000, 0.0000, 0.0000, 0.1333, 0.9490, 0.9961, 0.7020,\n",
              "           0.0118, 0.0000, 0.0000, 0.0000, 0.0000, 0.0000, 0.0000, 0.0000,\n",
              "           0.0000, 0.0000, 0.0000, 0.0000],\n",
              "          [0.0000, 0.0000, 0.0000, 0.0000, 0.0000, 0.0000, 0.0000, 0.0000,\n",
              "           0.0000, 0.0000, 0.0000, 0.1059, 0.8745, 0.9961, 0.8824, 0.1176,\n",
              "           0.0000, 0.0000, 0.0000, 0.0000, 0.0000, 0.0000, 0.0000, 0.0000,\n",
              "           0.0000, 0.0000, 0.0000, 0.0000],\n",
              "          [0.0000, 0.0000, 0.0000, 0.0000, 0.0000, 0.0000, 0.0000, 0.0000,\n",
              "           0.0000, 0.0000, 0.0000, 0.3020, 0.9961, 1.0000, 0.4980, 0.0000,\n",
              "           0.0000, 0.0000, 0.0000, 0.0000, 0.0000, 0.0000, 0.0000, 0.0000,\n",
              "           0.0000, 0.0000, 0.0000, 0.0000],\n",
              "          [0.0000, 0.0000, 0.0000, 0.0000, 0.0000, 0.0000, 0.0000, 0.0000,\n",
              "           0.0000, 0.0000, 0.2118, 0.9333, 0.9961, 0.9725, 0.2078, 0.0000,\n",
              "           0.0000, 0.0000, 0.0000, 0.0000, 0.0000, 0.0000, 0.0000, 0.0000,\n",
              "           0.0000, 0.0000, 0.0000, 0.0000],\n",
              "          [0.0000, 0.0000, 0.0000, 0.0000, 0.0000, 0.0000, 0.0000, 0.0000,\n",
              "           0.0000, 0.0431, 0.7176, 0.9961, 0.9961, 0.9059, 0.1608, 0.0000,\n",
              "           0.0000, 0.0000, 0.0000, 0.0000, 0.0000, 0.0000, 0.0000, 0.0000,\n",
              "           0.0000, 0.0000, 0.0000, 0.0000],\n",
              "          [0.0000, 0.0000, 0.0000, 0.0000, 0.0000, 0.0000, 0.0000, 0.0000,\n",
              "           0.0000, 0.4431, 0.9961, 0.9961, 0.9020, 0.1882, 0.0000, 0.0000,\n",
              "           0.0000, 0.0000, 0.0000, 0.0000, 0.0000, 0.0000, 0.0000, 0.0000,\n",
              "           0.0000, 0.0000, 0.0000, 0.0000],\n",
              "          [0.0000, 0.0000, 0.0000, 0.0000, 0.0000, 0.0000, 0.0000, 0.0000,\n",
              "           0.0000, 0.4314, 0.9373, 0.4941, 0.0980, 0.0000, 0.0000, 0.0000,\n",
              "           0.0000, 0.0000, 0.0000, 0.0000, 0.0000, 0.0000, 0.0000, 0.0000,\n",
              "           0.0000, 0.0000, 0.0000, 0.0000],\n",
              "          [0.0000, 0.0000, 0.0000, 0.0000, 0.0000, 0.0000, 0.0000, 0.0000,\n",
              "           0.0000, 0.0000, 0.0000, 0.0000, 0.0000, 0.0000, 0.0000, 0.0000,\n",
              "           0.0000, 0.0000, 0.0000, 0.0000, 0.0000, 0.0000, 0.0000, 0.0000,\n",
              "           0.0000, 0.0000, 0.0000, 0.0000],\n",
              "          [0.0000, 0.0000, 0.0000, 0.0000, 0.0000, 0.0000, 0.0000, 0.0000,\n",
              "           0.0000, 0.0000, 0.0000, 0.0000, 0.0000, 0.0000, 0.0000, 0.0000,\n",
              "           0.0000, 0.0000, 0.0000, 0.0000, 0.0000, 0.0000, 0.0000, 0.0000,\n",
              "           0.0000, 0.0000, 0.0000, 0.0000]]]),\n",
              " 9)"
            ]
          },
          "metadata": {},
          "execution_count": 64
        }
      ]
    },
    {
      "cell_type": "code",
      "source": [
        "#Grabbing the data for the image\n",
        "image = test_data[20][0]\n",
        "plt.imshow(image.reshape(28, 28))"
      ],
      "metadata": {
        "colab": {
          "base_uri": "https://localhost:8080/",
          "height": 447
        },
        "id": "KBtwdDoqTeHo",
        "outputId": "5a49b624-ed78-4fd9-ee73-ccc4e3f7748b"
      },
      "execution_count": 67,
      "outputs": [
        {
          "output_type": "execute_result",
          "data": {
            "text/plain": [
              "<matplotlib.image.AxesImage at 0x7b0f086b7690>"
            ]
          },
          "metadata": {},
          "execution_count": 67
        },
        {
          "output_type": "display_data",
          "data": {
            "text/plain": [
              "<Figure size 640x480 with 1 Axes>"
            ],
            "image/png": "[encoded data removed]"
          },
          "metadata": {}
        }
      ]
    },
    {
      "cell_type": "code",
      "source": [
        "#Passing through the image\n",
        "model.eval()\n",
        "with torch.no_grad():\n",
        "  test = model(image.view(1, 1, 28, 28))\n",
        "\n",
        "  print(test.argmax())"
      ],
      "metadata": {
        "colab": {
          "base_uri": "https://localhost:8080/"
        },
        "id": "qIvZRRyVTqFv",
        "outputId": "7beb0092-287d-4124-c1f7-3085122f3aca"
      },
      "execution_count": 68,
      "outputs": [
        {
          "output_type": "stream",
          "name": "stdout",
          "text": [
            "tensor(9)\n"
          ]
        }
      ]
    },
    {
      "cell_type": "markdown",
      "source": [],
      "metadata": {
        "id": "kG7AI8d3T4Aw"
      }
    },
    {
      "cell_type": "markdown",
      "source": [],
      "metadata": {
        "id": "Ac2jA2-kT27E"
      }
    },
    {
      "cell_type": "markdown",
      "source": [],
      "metadata": {
        "id": "-MqSV4z-T3mr"
      }
    }
  ]
}